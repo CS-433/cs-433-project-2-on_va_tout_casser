{
 "cells": [
  {
   "cell_type": "code",
   "execution_count": 1,
   "metadata": {},
   "outputs": [],
   "source": [
    "import preprocessing_methods as pm\n",
    "import pandas as pd\n",
    "import re"
   ]
  },
  {
   "cell_type": "code",
   "execution_count": 2,
   "metadata": {},
   "outputs": [],
   "source": [
    "path = '../twitter-datasets/'"
   ]
  },
  {
   "cell_type": "code",
   "execution_count": 1,
   "metadata": {},
   "outputs": [
    {
     "ename": "NameError",
     "evalue": "name 'path' is not defined",
     "output_type": "error",
     "traceback": [
      "\u001b[1;31m---------------------------------------------------------------------------\u001b[0m",
      "\u001b[1;31mNameError\u001b[0m                                 Traceback (most recent call last)",
      "\u001b[1;32m<ipython-input-1-438a7d30a762>\u001b[0m in \u001b[0;36m<module>\u001b[1;34m()\u001b[0m\n\u001b[1;32m----> 1\u001b[1;33m \u001b[0mprint_file_name\u001b[0m \u001b[1;33m=\u001b[0m \u001b[0mpath\u001b[0m \u001b[1;33m+\u001b[0m \u001b[1;34m'test_preprocessed_without_tf_idf_and_spellcheck.txt'\u001b[0m\u001b[1;33m\u001b[0m\u001b[0m\n\u001b[0m",
      "\u001b[1;31mNameError\u001b[0m: name 'path' is not defined"
     ]
    }
   ],
   "source": [
    "# Define the names of files where we're going to write.\n",
    "pos_file_name = path + 'pos_with_abb_with_corr.txt'\n",
    "neg_file_name = path + 'neg_with_abb_with_corr.txt'\n",
    "prepro_test_file = path + 'test_with_corr_new.txt'"
   ]
  },
  {
   "cell_type": "code",
   "execution_count": null,
   "metadata": {},
   "outputs": [],
   "source": [
    "# Define the name of the paths we take information from.\n",
    "pos_file = path + \"train_neg_full.txt\"\n",
    "neg_file = path + \"train_pos_full.txt\"\n",
    "filename = path + 'test_data.txt'"
   ]
  },
  {
   "cell_type": "code",
   "execution_count": null,
   "metadata": {},
   "outputs": [],
   "source": [
    "# Cell to do the proprocessing on either file\n",
    "pos_df = pm.preprocess(pos_file, True, False, True) # True for learning, false for spellchecking, True for keeping abbreviations.\n",
    "neg_df = pm.preprocess(neg_file, True, False, True)\n",
    "test_df = pm.preprocess(filename, False, True, True) # False (we're testing), True for applying the spellchecker, True for abbs."
   ]
  },
  {
   "cell_type": "code",
   "execution_count": null,
   "metadata": {},
   "outputs": [],
   "source": [
    "# Write the new files\n",
    "pm.write_new_test_file_from_df(pos_df, pos_file_name)\n",
    "pm.write_new_test_file_from_df(neg_df, neg_file_name)\n",
    "pm.write_new_test_file_from_df(test_df, prepro_test_file)"
   ]
  }
 ],
 "metadata": {
  "kernelspec": {
   "display_name": "Python 3",
   "language": "python",
   "name": "python3"
  },
  "language_info": {
   "codemirror_mode": {
    "name": "ipython",
    "version": 3
   },
   "file_extension": ".py",
   "mimetype": "text/x-python",
   "name": "python",
   "nbconvert_exporter": "python",
   "pygments_lexer": "ipython3",
   "version": "3.7.1"
  }
 },
 "nbformat": 4,
 "nbformat_minor": 4
}
